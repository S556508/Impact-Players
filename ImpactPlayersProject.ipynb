{
 "cells": [
  {
   "cell_type": "code",
   "execution_count": 1,
   "id": "24c00f4d-4fdb-4e1a-9509-430dd923017c",
   "metadata": {},
   "outputs": [],
   "source": [
    "from pyspark.sql import SparkSession\n",
    "\n",
    "spark = SparkSession.builder.getOrCreate()"
   ]
  },
  {
   "cell_type": "code",
   "execution_count": 2,
   "id": "f90dbd2f-45e6-4956-bf75-d268af6392f4",
   "metadata": {},
   "outputs": [
    {
     "data": {
      "text/plain": [
       "DataFrame[a: bigint, b: double, c: string, d: date, e: timestamp]"
      ]
     },
     "execution_count": 2,
     "metadata": {},
     "output_type": "execute_result"
    }
   ],
   "source": [
    "from datetime import datetime, date\n",
    "import pandas as pd\n",
    "from pyspark.sql import Row\n",
    "\n",
    "df = spark.createDataFrame([\n",
    "    Row(a=1, b=2., c='string1', d=date(2000, 1, 1), e=datetime(2000, 1, 1, 12, 0)),\n",
    "    Row(a=2, b=3., c='string2', d=date(2000, 2, 1), e=datetime(2000, 1, 2, 12, 0)),\n",
    "    Row(a=4, b=5., c='string3', d=date(2000, 3, 1), e=datetime(2000, 1, 3, 12, 0))\n",
    "])\n",
    "df"
   ]
  },
  {
   "cell_type": "code",
   "execution_count": 3,
   "id": "fc8d1306-b045-483b-bb6a-edd131f7b1cc",
   "metadata": {},
   "outputs": [
    {
     "name": "stdout",
     "output_type": "stream",
     "text": [
      "+---------+-------+--------+----------------+----------------+------------------+------------+------------------+------------+--------+--------------------+----------------+-----------------+----------------+-----+----------+-------+-----------+------------+-----------------+--------------+-------------+-----------+------------+--------------+--------------+---------------+-----------------+-----------------+-------+-----+--------+--------+--------+-------+-------+----------+-------+-----+---------------+--------------+------------+--------------+--------------+-----------------+---------------------+\n",
      "|       ID| Source|Severity|      Start_Time|        End_Time|         Start_Lat|   Start_Lng|           End_Lat|     End_Lng|Distance|         Description|          Street|             City|          County|State|   Zipcode|Country|   Timezone|Airport_Code|Weather_Timestamp|Temperature(F)|Wind_Chill(F)|Humidity(%)|Pressure(in)|Visibility(mi)|Wind_Direction|Wind_Speed(mph)|Precipitation(in)|Weather_Condition|Amenity| Bump|Crossing|Give_Way|Junction|No_Exit|Railway|Roundabout|Station| Stop|Traffic_Calming|Traffic_Signal|Turning_Loop|Sunrise_Sunset|Civil_Twilight|Nautical_Twilight|Astronomical_Twilight|\n",
      "+---------+-------+--------+----------------+----------------+------------------+------------+------------------+------------+--------+--------------------+----------------+-----------------+----------------+-----+----------+-------+-----------+------------+-----------------+--------------+-------------+-----------+------------+--------------+--------------+---------------+-----------------+-----------------+-------+-----+--------+--------+--------+-------+-------+----------+-------+-----+---------------+--------------+------------+--------------+--------------+-----------------+---------------------+\n",
      "|A-4694324|Source1|       2|         37:14.0|         56:53.0|         38.990562|   -77.39907|         38.990037|  -77.398282|   0.056|Incident on FORES...| Forest Ridge Dr|         Sterling|         Loudoun|   VA|20164-2813|     US| US/Eastern|        KIAD|  12/3/2022 23:52|            45|           43|         48|       29.91|            10|             W|              5|                0|             Fair|  FALSE|FALSE|   FALSE|   FALSE|   FALSE|  FALSE|  FALSE|     FALSE|  FALSE|FALSE|          FALSE|         FALSE|       FALSE|         Night|         Night|            Night|                Night|\n",
      "|A-5006183|Source1|       2|         13:00.0|         22:45.0|       34.66118932|-120.4928219|       34.66118932|-120.4924419|   0.022|Accident on W Cen...|   Floradale Ave|           Lompoc|   Santa Barbara|   CA|     93436|     US| US/Pacific|        KLPC|  8/20/2022 12:56|            68|           68|         73|       29.79|            10|             W|             13|                0|             Fair|  FALSE|FALSE|   FALSE|   FALSE|   FALSE|  FALSE|  FALSE|     FALSE|  FALSE|FALSE|          FALSE|          TRUE|       FALSE|           Day|           Day|              Day|                  Day|\n",
      "|A-4237356|Source1|       2| 2/21/2022 17:43| 2/21/2022 19:43|         43.680592|  -92.993317|         43.680574|  -92.972223|   1.054|Incident on I-90 ...|      14th St NW|           Austin|           Mower|   MN|     55912|     US| US/Central|        KAUM|  2/21/2022 17:35|            27|           15|         86|       28.49|            10|           ENE|             15|                0|       Wintry Mix|  FALSE|FALSE|   FALSE|   FALSE|   FALSE|  FALSE|  FALSE|     FALSE|  FALSE|FALSE|          FALSE|         FALSE|       FALSE|           Day|           Day|              Day|                  Day|\n",
      "|A-6690583|Source1|       2|  12/4/2020 1:46|  12/4/2020 4:13|         35.395484| -118.985176|         35.395476| -118.985995|   0.046|RP ADV THEY LOCAT...|      River Blvd|      Bakersfield|            Kern|   CA|93305-2649|     US| US/Pacific|        KBFL|   12/4/2020 1:54|            42|           42|         34|       29.77|            10|          CALM|              0|                0|             Fair|  FALSE|FALSE|   FALSE|   FALSE|   FALSE|  FALSE|  FALSE|     FALSE|  FALSE|FALSE|          FALSE|         FALSE|       FALSE|         Night|         Night|            Night|                Night|\n",
      "|A-7222249|Source1|       2| 1/14/2020 16:49| 1/14/2020 20:49|          42.42128|  -123.11945|          42.42128|  -123.11945|       0|At OR-99/Exit 45A...|           I-5 N|        Gold Hill|         Jackson|   OR|     97525|     US| US/Pacific|        KMFR|  1/14/2020 16:53|            35|           35|         89|       28.71|            10|          CALM|              0|                0|       Light Rain|  FALSE|FALSE|   FALSE|   FALSE|   FALSE|  FALSE|  FALSE|     FALSE|  FALSE|FALSE|          FALSE|         FALSE|       FALSE|           Day|           Day|              Day|                  Day|\n",
      "|A-6198239|Source1|       2|         48:00.0|         09:09.0|          30.19101|  -85.682508|         30.190329|   -85.68253|   0.047|Incident on CLARE...|    Claremont Dr|      Panama City|             Bay|   FL|32405-3534|     US| US/Central|        KPAM|  8/13/2021 16:56|            90|           90|         55|       30.03|            10|            SW|             12|                0|             Fair|  FALSE|FALSE|   FALSE|   FALSE|   FALSE|  FALSE|  FALSE|     FALSE|  FALSE|FALSE|          FALSE|         FALSE|       FALSE|           Day|           Day|              Day|                  Day|\n",
      "|A-4222549|Source1|       2|10/12/2022 13:59|10/12/2022 15:33|         32.868947|  -96.804018|           32.8695|  -96.804014|   0.038|Incident on PREST...|      Preston Rd|           Dallas|          Dallas|   TX|     75225|     US| US/Central|        KDAL| 10/12/2022 13:53|            91|           91|         39|       29.34|            10|           VAR|              7|                0|             Fair|  FALSE|FALSE|   FALSE|   FALSE|   FALSE|  FALSE|  FALSE|     FALSE|   TRUE|FALSE|          FALSE|         FALSE|       FALSE|           Day|           Day|              Day|                  Day|\n",
      "|A-5924038|Source1|       2| 10/21/2021 7:39| 10/21/2021 9:24|39.717217683602726|-86.12469077| 39.73347768360273|-86.13702077|   1.301|Incident on I-65 ...|            I-65|     Indianapolis|          Marion|   IN|     46237|     US| US/Eastern|        KIND|  10/21/2021 7:47|            63|           63|         78|       29.06|            10|            SW|             10|                0|           Cloudy|  FALSE|FALSE|   FALSE|   FALSE|   FALSE|  FALSE|  FALSE|     FALSE|  FALSE|FALSE|          FALSE|         FALSE|       FALSE|         Night|           Day|              Day|                  Day|\n",
      "|A-4908440|Source1|       2|   2/1/2022 4:13|   2/1/2022 7:05|47.258259057773294|-115.0529158|47.283369057773285|-115.0778058|   2.091|Travelers can exp...|          I-90 W|      Saint Regis|         Mineral|   MT|     59866|     US|US/Mountain|        K3TH|    2/1/2022 3:53|            13|           13|         84|       24.08|            10|           VAR|              3|                0|           Cloudy|  FALSE|FALSE|   FALSE|   FALSE|   FALSE|  FALSE|  FALSE|     FALSE|  FALSE|FALSE|          FALSE|         FALSE|       FALSE|         Night|         Night|            Night|                Night|\n",
      "|A-4535214|Source1|       2| 2/18/2022 16:53| 2/18/2022 18:59|         32.771645| -117.161407|         32.730856|  -117.15468|   2.845|Slow traffic on C...|       Friars Rd|        San Diego|       San Diego|   CA|     92108|     US| US/Pacific|        KMYF|  2/18/2022 16:53|            63|           63|         40|       29.69|            10|            NW|             14|                0|             Fair|  FALSE|FALSE|   FALSE|   FALSE|   FALSE|  FALSE|  FALSE|     FALSE|  FALSE|FALSE|          FALSE|         FALSE|       FALSE|           Day|           Day|              Day|                  Day|\n",
      "|A-6609749|Source1|       2|11/30/2020 12:57|  12/1/2020 1:48|          25.89866|  -80.382801|         25.895972|  -80.379142|   0.294|Stationary traffi...| W Okeechobee Rd|            Miami|      Miami-Dade|   FL|     33178|     US| US/Eastern|        KMIA| 11/30/2020 12:53|            83|           83|         58|       29.89|            10|           WSW|             14|                0|    Mostly Cloudy|  FALSE|FALSE|   FALSE|   FALSE|   FALSE|  FALSE|  FALSE|     FALSE|  FALSE|FALSE|          FALSE|         FALSE|       FALSE|           Day|           Day|              Day|                  Day|\n",
      "|A-6214306|Source1|       2| 7/21/2021 18:13| 7/21/2021 18:32|         38.132332|  -77.511383|          38.12196|   -77.51632|   0.765|Slow traffic on I...|          I-95 S|         Woodford|    Spotsylvania|   VA|     22580|     US| US/Eastern|        KEZF|  7/21/2021 18:15|            84|           84|         54|       29.79|            10|           NNE|              3|                0|    Partly Cloudy|  FALSE|FALSE|   FALSE|   FALSE|   FALSE|  FALSE|  FALSE|     FALSE|  FALSE|FALSE|          FALSE|         FALSE|       FALSE|           Day|           Day|              Day|                  Day|\n",
      "|A-5659848|Source1|       2| 11/9/2021 23:47| 11/10/2021 1:03|         25.794969|  -80.258877|         25.794973|   -80.25903|    0.01|Incident on NW 21...|      NW 21st St|            Miami|      Miami-Dade|   FL|33142-6704|     US| US/Eastern|        KMIA|  11/9/2021 23:53|            70|           70|         78|       30.09|            10|             N|              3|                0|    Mostly Cloudy|   TRUE|FALSE|    TRUE|   FALSE|   FALSE|  FALSE|  FALSE|     FALSE|  FALSE|FALSE|          FALSE|          TRUE|       FALSE|         Night|         Night|            Night|                Night|\n",
      "|A-5296533|Source1|       2|         30:07.0|         15:30.0| 28.64042401300125|-81.42232776| 28.63918401300125|-81.40628776|   0.976|Stationary traffi...|   Maitland Blvd|Altamonte Springs|        Seminole|   FL|     32714|     US| US/Eastern|        KORL|   2/16/2022 8:53|            67|           67|         70|       30.28|            10|           ENE|             10|                0|             Fair|  FALSE|FALSE|   FALSE|   FALSE|   FALSE|  FALSE|  FALSE|     FALSE|  FALSE|FALSE|          FALSE|         FALSE|       FALSE|           Day|           Day|              Day|                  Day|\n",
      "|A-5436922|Source1|       2| 8/10/2022 18:28| 8/10/2022 19:13|       39.16133523|-94.81736541|       39.15813523|-94.82223541|   0.342|Accident at exit ...|            KS-5|      Kansas City|       Wyandotte|   KS|     66109|     US| US/Central|        KNKA|  8/10/2022 18:54|            86|           86|         43|       29.28|            10|             E|              7|                0|             Fair|  FALSE|FALSE|   FALSE|   FALSE|   FALSE|  FALSE|  FALSE|     FALSE|  FALSE|FALSE|          FALSE|         FALSE|       FALSE|           Day|           Day|              Day|                  Day|\n",
      "|A-7173962|Source1|       2| 4/13/2020 19:14| 4/13/2020 19:44| 35.19002000000001|   -80.79835| 35.19002000000001|   -80.79835|       0|At Randolph Rd - ...|       Marvin Rd|        Charlotte|     Mecklenburg|   NC|28211-1115|     US| US/Eastern|        KCLT|  4/13/2020 18:52|            77|           77|         43|       29.08|            10|            SW|             10|                0|    Mostly Cloudy|  FALSE|FALSE|    TRUE|   FALSE|   FALSE|  FALSE|  FALSE|     FALSE|  FALSE|FALSE|          FALSE|          TRUE|       FALSE|           Day|           Day|              Day|                  Day|\n",
      "|A-3983218|Source1|       2|         22:30.0|         12:00.0|33.120965000000005|  -117.32149|         33.100054| -117.308585|   1.626|Slow traffic on S...|           I-5 S|         Carlsbad|       San Diego|   CA|     92011|     US| US/Pacific|        KCRQ|   3/22/2022 6:53|            55|           55|         72|       29.68|            10|           ENE|              6|                0|             Fair|  FALSE|FALSE|   FALSE|   FALSE|   FALSE|  FALSE|  FALSE|     FALSE|  FALSE|FALSE|          FALSE|         FALSE|       FALSE|           Day|           Day|              Day|                  Day|\n",
      "|A-5225149|Source1|       2|         28:00.0|         56:53.0|        30.5084002|-91.17196441|        30.5079902|-91.17171441|   0.032|Incident on SCENI...|      Scenic Hwy|      Baton Rouge|East Baton Rouge|   LA|     70805|     US| US/Central|        KBTR| 11/10/2022 20:53|            63|           63|         75|       29.77|            10|           NNW|              5|                0|             Fair|  FALSE|FALSE|   FALSE|   FALSE|   FALSE|  FALSE|  FALSE|     FALSE|  FALSE|FALSE|          FALSE|         FALSE|       FALSE|         Night|         Night|            Night|                Night|\n",
      "|A-6549508|Source1|       2|   1/5/2021 1:56|   1/5/2021 4:46|         38.087915| -122.231751|         38.089805| -122.230831|    0.14|EB 80 JWO 780. [F...|          I-80 E|          Vallejo|          Solano|   CA|     94591|     US| US/Pacific|        KAPC|    1/5/2021 1:54|            37|           37|         93|       30.23|           0.5|          CALM|              0|                0|              Fog|  FALSE|FALSE|   FALSE|   FALSE|    TRUE|  FALSE|  FALSE|     FALSE|  FALSE|FALSE|          FALSE|         FALSE|       FALSE|         Night|         Night|            Night|                Night|\n",
      "|A-3578098|Source1|       2|  3/9/2017 11:35|  3/9/2017 17:35|         33.968791|  -84.526941|         33.967254|  -84.525474|   0.135|At GA-120-LOOP/Ex...|          I-75 S|         Marietta|            Cobb|   GA|     30062|     US| US/Eastern|        KMGE|   3/9/2017 11:58|          68.7|         NULL|         22|       30.26|            10|           WNW|            5.8|             NULL|            Clear|  FALSE|FALSE|   FALSE|   FALSE|   FALSE|  FALSE|  FALSE|     FALSE|  FALSE|FALSE|          FALSE|         FALSE|       FALSE|           Day|           Day|              Day|                  Day|\n",
      "+---------+-------+--------+----------------+----------------+------------------+------------+------------------+------------+--------+--------------------+----------------+-----------------+----------------+-----+----------+-------+-----------+------------+-----------------+--------------+-------------+-----------+------------+--------------+--------------+---------------+-----------------+-----------------+-------+-----+--------+--------+--------+-------+-------+----------+-------+-----+---------------+--------------+------------+--------------+--------------+-----------------+---------------------+\n",
      "only showing top 20 rows\n",
      "\n"
     ]
    }
   ],
   "source": [
    "AccidentsData = spark.read.format('csv').option('header', 'true').load('USAccidents.csv')\n",
    "AccidentsData.createOrReplaceTempView('AccidentsDataDetails') \n",
    "AccidentsData.show()"
   ]
  },
  {
   "cell_type": "code",
   "execution_count": 4,
   "id": "fc66d7cb-c89c-4198-b35b-1ff739d2b192",
   "metadata": {},
   "outputs": [
    {
     "name": "stdout",
     "output_type": "stream",
     "text": [
      "+-----+-------------+\n",
      "|State|AccidentCount|\n",
      "+-----+-------------+\n",
      "|   CA|        71784|\n",
      "|   FL|        38371|\n",
      "|   TX|        14338|\n",
      "|   VA|        13088|\n",
      "|   NY|        12666|\n",
      "|   PA|        11729|\n",
      "|   NC|        10149|\n",
      "|   OR|         9924|\n",
      "|   SC|         9406|\n",
      "|   MN|         8397|\n",
      "|   MD|         6390|\n",
      "|   AZ|         6090|\n",
      "|   NJ|         5801|\n",
      "|   TN|         5349|\n",
      "|   GA|         4940|\n",
      "|   LA|         4690|\n",
      "|   MI|         4524|\n",
      "|   IL|         4315|\n",
      "|   UT|         4180|\n",
      "|   CO|         3105|\n",
      "+-----+-------------+\n",
      "only showing top 20 rows\n",
      "\n"
     ]
    }
   ],
   "source": [
    "#Goal 1\n",
    "spark.sql(\"SELECT State, COUNT(*) AS AccidentCount FROM AccidentsDataDetails GROUP BY State ORDER BY AccidentCount DESC\").show()"
   ]
  },
  {
   "cell_type": "code",
   "execution_count": 5,
   "id": "04fce2f2-5e36-400a-808a-14435055eeab",
   "metadata": {},
   "outputs": [
    {
     "name": "stdout",
     "output_type": "stream",
     "text": [
      "+--------------+--------------+-----------------+---------------------+-------------+\n",
      "|Sunrise_Sunset|Civil_Twilight|Nautical_Twilight|Astronomical_Twilight|avg(Severity)|\n",
      "+--------------+--------------+-----------------+---------------------+-------------+\n",
      "|         Night|           Day|              Day|                  Day|          4.0|\n",
      "|         Night|         Night|              Day|                  Day|          4.0|\n",
      "|           Day|           Day|              Day|                Night|          4.0|\n",
      "|         Night|         Night|              Day|                  Day|          2.0|\n",
      "|         Night|           Day|              Day|                  Day|          1.0|\n",
      "|         Night|         Night|            Night|                  Day|          2.0|\n",
      "|         Night|         Night|            Night|                  Day|          1.0|\n",
      "|         Night|         Night|            Night|                  Day|          3.0|\n",
      "|         Night|         Night|              Day|                  Day|          1.0|\n",
      "|         Night|         Night|            Night|                  Day|          4.0|\n",
      "|         Night|         Night|            Night|                Night|          3.0|\n",
      "|         Night|         Night|              Day|                Night|          4.0|\n",
      "|           Day|           Day|              Day|                Night|          2.0|\n",
      "|         Night|         Night|              Day|                Night|          2.0|\n",
      "|         Night|         Night|            Night|                Night|          1.0|\n",
      "|           Day|           Day|              Day|                  Day|          2.0|\n",
      "|         Night|         Night|            Night|                Night|          4.0|\n",
      "|           Day|           Day|              Day|                  Day|          3.0|\n",
      "|           Day|           Day|              Day|                  Day|          4.0|\n",
      "|         Night|           Day|              Day|                  Day|          2.0|\n",
      "+--------------+--------------+-----------------+---------------------+-------------+\n",
      "only showing top 20 rows\n",
      "\n"
     ]
    }
   ],
   "source": [
    "#Goal 2:\n",
    "spark.sql('Select Sunrise_Sunset, Civil_Twilight,Nautical_Twilight, Astronomical_Twilight, AVG(Severity) FROM AccidentsDataDetails GROUP BY Sunrise_Sunset, Civil_Twilight,Nautical_Twilight, Astronomical_Twilight, Severity').show()"
   ]
  },
  {
   "cell_type": "code",
   "execution_count": 6,
   "id": "a1ed6eb4-4cb6-4295-a688-ee679bd5ee2c",
   "metadata": {},
   "outputs": [
    {
     "name": "stdout",
     "output_type": "stream",
     "text": [
      "+-------------+----------+--------------+--------------+-------------+-------------+----------------+-------------+----------+---------------------+--------------------+------------------+\n",
      "|Amenity_Count|Bump_Count|Crossing_Count|Junction_Count|No_Exit_Count|Railway_Count|Roundabout_Count|Station_Count|Stop_Count|Traffic_Calming_Count|Traffic_Signal_Count|Turning_Loop_Count|\n",
      "+-------------+----------+--------------+--------------+-------------+-------------+----------------+-------------+----------+---------------------+--------------------+------------------+\n",
      "|         3044|       137|         24717|         25531|          646|         2178|               8|         7191|      6996|                  260|               25261|                 0|\n",
      "+-------------+----------+--------------+--------------+-------------+-------------+----------------+-------------+----------+---------------------+--------------------+------------------+\n",
      "\n"
     ]
    }
   ],
   "source": [
    "#Goal 3:\n",
    "spark.sql(' select count(case when Amenity = \"TRUE\" then 1 end) as Amenity_Count,count(case when Bump = \"TRUE\" then 1 end) as Bump_Count,count(case when Crossing = \"TRUE\" then 1 end) as Crossing_Count,count(case when Junction = \"TRUE\" then 1 end) as Junction_Count,count(case when No_Exit = \"TRUE\" then 1 end) as No_Exit_Count,count(case when Railway = \"TRUE\" then 1 end) as Railway_Count,count(case when Roundabout = \"TRUE\" then 1 end) as Roundabout_Count,count(case when Station = \"TRUE\" then 1 end) as Station_Count,count(case when Stop = \"TRUE\" then 1 end) as Stop_Count,count(case when Traffic_Calming = \"TRUE\" then 1 end) as Traffic_Calming_Count,count(case when Traffic_Signal = \"TRUE\" then 1 end) as Traffic_Signal_Count,count(case when Turning_Loop = \"TRUE\" then 1 end) as Turning_Loop_Count from AccidentsDataDetails').show()"
   ]
  },
  {
   "cell_type": "code",
   "execution_count": 7,
   "id": "ba9ece52-9eac-435c-89e8-16ff0d7e3772",
   "metadata": {},
   "outputs": [
    {
     "name": "stdout",
     "output_type": "stream",
     "text": [
      "+--------------------+-------------+\n",
      "|   Weather_Condition|AccidentCount|\n",
      "+--------------------+-------------+\n",
      "|                Fair|       116888|\n",
      "|              Cloudy|        35716|\n",
      "|       Mostly Cloudy|        34842|\n",
      "|       Partly Cloudy|        24099|\n",
      "|          Light Rain|        12198|\n",
      "|               Clear|        11752|\n",
      "|                NULL|         6926|\n",
      "|            Overcast|         5807|\n",
      "|          Light Snow|         5286|\n",
      "|                 Fog|         3938|\n",
      "|                Rain|         3035|\n",
      "|    Scattered Clouds|         2960|\n",
      "|                Haze|         2697|\n",
      "|        Fair / Windy|         1796|\n",
      "|          Heavy Rain|         1149|\n",
      "|Thunder in the Vi...|          840|\n",
      "|Mostly Cloudy / W...|          799|\n",
      "|      Cloudy / Windy|          762|\n",
      "|       Light Drizzle|          712|\n",
      "|                Snow|          687|\n",
      "+--------------------+-------------+\n",
      "only showing top 20 rows\n",
      "\n"
     ]
    }
   ],
   "source": [
    "# Goal 4:\n",
    "spark.sql(\"SELECT Weather_Condition, COUNT(*) AS AccidentCount FROM AccidentsDataDetails GROUP BY Weather_Condition ORDER BY AccidentCount DESC\").show()"
   ]
  },
  {
   "cell_type": "code",
   "execution_count": 8,
   "id": "031a0b17-5144-4c38-953e-fa0a6ff3fd5a",
   "metadata": {},
   "outputs": [
    {
     "name": "stdout",
     "output_type": "stream",
     "text": [
      "+--------------+-------------+\n",
      "|Sunrise_Sunset|AccidentCount|\n",
      "+--------------+-------------+\n",
      "|           Day|       182222|\n",
      "|         Night|        96022|\n",
      "|          NULL|         1379|\n",
      "+--------------+-------------+\n",
      "\n"
     ]
    }
   ],
   "source": [
    "#Goal 5:\n",
    "spark.sql(\"SELECT Sunrise_Sunset,COUNT(*) AS AccidentCount FROM AccidentsDataDetails GROUP BY Sunrise_Sunset ORDER BY AccidentCount DESC\").show()"
   ]
  },
  {
   "cell_type": "code",
   "execution_count": 9,
   "id": "61da2ea5-b564-4d62-a948-f2b88537c636",
   "metadata": {},
   "outputs": [
    {
     "name": "stdout",
     "output_type": "stream",
     "text": [
      "+--------+-------------+\n",
      "|Severity|AccidentCount|\n",
      "+--------+-------------+\n",
      "|       2|       255076|\n",
      "|       4|        12129|\n",
      "|       3|        10626|\n",
      "|       1|         1792|\n",
      "+--------+-------------+\n",
      "\n"
     ]
    }
   ],
   "source": [
    "#Goal 6:\n",
    "spark.sql(\"SELECT Severity, COUNT(*) AS AccidentCount FROM AccidentsDataDetails GROUP BY Severity ORDER BY AccidentCount DESC\").show()"
   ]
  },
  {
   "cell_type": "code",
   "execution_count": 10,
   "id": "5fff28c9-46f6-4662-a4aa-71fce1023898",
   "metadata": {},
   "outputs": [
    {
     "name": "stdout",
     "output_type": "stream",
     "text": [
      "+------+-----+----+\n",
      "| short|  mid|Long|\n",
      "+------+-----+----+\n",
      "|217245|57574|4804|\n",
      "+------+-----+----+\n",
      "\n"
     ]
    }
   ],
   "source": [
    "#Goal 7:\n",
    "spark.sql('select count(case when distance < 1 then 1 end) as short, count(case when distance between 1 and 5 then 1 end) as mid, count(case when distance > 5 then 1 end) as Long from AccidentsDataDetails').show()"
   ]
  },
  {
   "cell_type": "code",
   "execution_count": null,
   "id": "6fc12a2f-a610-4e65-8678-d81d6306ea58",
   "metadata": {},
   "outputs": [],
   "source": [
    "#Goal 8:\n"
   ]
  }
 ],
 "metadata": {
  "kernelspec": {
   "display_name": "Python 3 (ipykernel)",
   "language": "python",
   "name": "python3"
  },
  "language_info": {
   "codemirror_mode": {
    "name": "ipython",
    "version": 3
   },
   "file_extension": ".py",
   "mimetype": "text/x-python",
   "name": "python",
   "nbconvert_exporter": "python",
   "pygments_lexer": "ipython3",
   "version": "3.10.7"
  }
 },
 "nbformat": 4,
 "nbformat_minor": 5
}
